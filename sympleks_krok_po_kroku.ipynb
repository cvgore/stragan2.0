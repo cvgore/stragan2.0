{
  "nbformat": 4,
  "nbformat_minor": 0,
  "metadata": {
    "colab": {
      "name": "sympleks krok po kroku.ipynb",
      "provenance": [],
      "collapsed_sections": [],
      "authorship_tag": "ABX9TyOvYDGFIMtZ4/hIo2dflDNn",
      "include_colab_link": true
    },
    "kernelspec": {
      "name": "python3",
      "display_name": "Python 3"
    }
  },
  "cells": [
    {
      "cell_type": "markdown",
      "metadata": {
        "id": "view-in-github",
        "colab_type": "text"
      },
      "source": [
        "<a href=\"https://colab.research.google.com/github/cvgore/stragan2.0/blob/master/sympleks_krok_po_kroku.ipynb\" target=\"_parent\"><img src=\"https://colab.research.google.com/assets/colab-badge.svg\" alt=\"Open In Colab\"/></a>"
      ]
    },
    {
      "cell_type": "code",
      "metadata": {
        "colab": {
          "base_uri": "https://localhost:8080/"
        },
        "id": "hkAZVHAEtbxk",
        "outputId": "5e69d727-a499-4888-8539-2b0cb7605723"
      },
      "source": [
        "!apt-get install texlive"
      ],
      "execution_count": 26,
      "outputs": [
        {
          "output_type": "stream",
          "text": [
            "Reading package lists... Done\n",
            "Building dependency tree       \n",
            "Reading state information... Done\n",
            "texlive is already the newest version (2017.20180305-1).\n",
            "^C\n"
          ],
          "name": "stdout"
        }
      ]
    },
    {
      "cell_type": "markdown",
      "metadata": {
        "id": "mNscSYlltdlc"
      },
      "source": [
        "#WYKONAĆ TYLKO RAZ W/W LINIJKĘ"
      ]
    },
    {
      "cell_type": "markdown",
      "metadata": {
        "id": "Bdqgd26wmu3r"
      },
      "source": [
        "0. **IMPORTANT: Ułamki zapisywać w sposób zaprezentowany poniżej**\r\n",
        "$$ \\frac{3}{2} => 1.5 $$\r\n",
        "\r\n",
        "1. Podaj współczynniki z lewej strony ograniczeń\r\n",
        "\r\n",
        "Przykład:\r\n",
        "$$\r\n",
        "\\begin{align*} \r\n",
        "1x_1 + 2x_2 + \\frac{3}{2}x_3 + 6x_4 &\\le 90000 \\\\ \r\n",
        "2x_1 + 2x_2 + \\frac{3}{2}x_3 + 4x_4 &\\le 120000\r\n",
        "\\end{align*}\r\n",
        "$$\r\n",
        "\r\n",
        "```python\r\n",
        "A = [ [1, 2 ,1.5, 6], [2, 2, 1.5, 4] ]\r\n",
        "```"
      ]
    },
    {
      "cell_type": "code",
      "metadata": {
        "id": "XmxL_BhsmrC2"
      },
      "source": [
        "A = [[1,2,1.5,6],[2,2,1.5,4]]"
      ],
      "execution_count": 17,
      "outputs": []
    },
    {
      "cell_type": "markdown",
      "metadata": {
        "id": "ahtLiZaeowLb"
      },
      "source": [
        "2. Podaj wartość z prawej strony ograniczeń\r\n",
        "\r\n",
        "\r\n",
        "```python\r\n",
        "b = [ 90000, 120000 ]\r\n",
        "```\r\n",
        "\r\n",
        "\r\n"
      ]
    },
    {
      "cell_type": "code",
      "metadata": {
        "id": "2M3aGtx9pPXk"
      },
      "source": [
        "b = [90000,120000]"
      ],
      "execution_count": 18,
      "outputs": []
    },
    {
      "cell_type": "markdown",
      "metadata": {
        "id": "wQ6xaoeopYRj"
      },
      "source": [
        "3. Podaj współczynniki przy x-ach w funkcji celu\r\n",
        "\r\n",
        "Przykład:\r\n",
        "\r\n",
        "$$\r\n",
        "Q(x) = 4x_1 + 6x_2 + 3x_3 + 12x_4 -> max\r\n",
        "$$\r\n",
        "\r\n",
        "\r\n",
        "```python\r\n",
        "c = [ 4, 6, 3, 12]\r\n",
        "```\r\n",
        "\r\n"
      ]
    },
    {
      "cell_type": "code",
      "metadata": {
        "id": "GpOZyeUGpXtm"
      },
      "source": [
        "c = [4,6,3,12]"
      ],
      "execution_count": 19,
      "outputs": []
    },
    {
      "cell_type": "markdown",
      "metadata": {
        "id": "yrTu7Hr-psjU"
      },
      "source": [
        "4. Max/min?\r\n",
        "\r\n",
        "```python\r\n",
        "p = 'max'\r\n",
        "# lub\r\n",
        "p = 'min'\r\n",
        "```\r\n",
        "\r\n"
      ]
    },
    {
      "cell_type": "code",
      "metadata": {
        "id": "d6HYRXXjqcfE"
      },
      "source": [
        "p = 'max'"
      ],
      "execution_count": 20,
      "outputs": []
    },
    {
      "cell_type": "code",
      "metadata": {
        "colab": {
          "base_uri": "https://localhost:8080/"
        },
        "cellView": "code",
        "id": "PsZMhXK3mbyi",
        "outputId": "15579ad0-6d23-4aac-efee-f1444b8262a2"
      },
      "source": [
        "!python2 simplex.py -A \"$A\" -b \"$b\" -c \"$c\" -p \"$p\""
      ],
      "execution_count": 22,
      "outputs": [
        {
          "output_type": "stream",
          "text": [
            "\u001b[H\u001b[2J"
          ],
          "name": "stdout"
        }
      ]
    },
    {
      "cell_type": "code",
      "metadata": {
        "colab": {
          "base_uri": "https://localhost:8080/"
        },
        "id": "-bVRzynDt308",
        "outputId": "0c01c6db-5f4c-48c1-e59e-5ed8ba9e798c"
      },
      "source": [
        "!pdflatex solution.tex"
      ],
      "execution_count": 28,
      "outputs": [
        {
          "output_type": "stream",
          "text": [
            "This is pdfTeX, Version 3.14159265-2.6-1.40.18 (TeX Live 2017/Debian) (preloaded format=pdflatex)\n",
            " restricted \\write18 enabled.\n",
            "entering extended mode\n",
            "(./solution.tex\n",
            "LaTeX2e <2017-04-15>\n",
            "Babel <3.18> and hyphenation patterns for 3 language(s) loaded.\n",
            "(/usr/share/texlive/texmf-dist/tex/latex/base/article.cls\n",
            "Document Class: article 2014/09/29 v1.4h Standard LaTeX document class\n",
            "(/usr/share/texlive/texmf-dist/tex/latex/base/size10.clo))\n",
            "(/usr/share/texlive/texmf-dist/tex/latex/amsmath/amsmath.sty\n",
            "For additional information on amsmath, use the `?' option.\n",
            "(/usr/share/texlive/texmf-dist/tex/latex/amsmath/amstext.sty\n",
            "(/usr/share/texlive/texmf-dist/tex/latex/amsmath/amsgen.sty))\n",
            "(/usr/share/texlive/texmf-dist/tex/latex/amsmath/amsbsy.sty)\n",
            "(/usr/share/texlive/texmf-dist/tex/latex/amsmath/amsopn.sty))\n",
            "No file solution.aux.\n",
            "\n",
            "LaTeX Warning: No \\author given.\n",
            "\n",
            "[1{/var/lib/texmf/fonts/map/pdftex/updmap/pdftex.map}] [2] (./solution.aux) )</\n",
            "usr/share/texlive/texmf-dist/fonts/type1/public/amsfonts/cm/cmbx10.pfb></usr/sh\n",
            "are/texlive/texmf-dist/fonts/type1/public/amsfonts/cm/cmex10.pfb></usr/share/te\n",
            "xlive/texmf-dist/fonts/type1/public/amsfonts/cm/cmmi10.pfb></usr/share/texlive/\n",
            "texmf-dist/fonts/type1/public/amsfonts/cm/cmr10.pfb></usr/share/texlive/texmf-d\n",
            "ist/fonts/type1/public/amsfonts/cm/cmr12.pfb></usr/share/texlive/texmf-dist/fon\n",
            "ts/type1/public/amsfonts/cm/cmr17.pfb></usr/share/texlive/texmf-dist/fonts/type\n",
            "1/public/amsfonts/cm/cmr7.pfb></usr/share/texlive/texmf-dist/fonts/type1/public\n",
            "/amsfonts/cm/cmsy10.pfb>\n",
            "Output written on solution.pdf (2 pages, 82547 bytes).\n",
            "Transcript written on solution.log.\n"
          ],
          "name": "stdout"
        }
      ]
    }
  ]
}